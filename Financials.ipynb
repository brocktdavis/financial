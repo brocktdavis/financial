{
 "cells": [
  {
   "cell_type": "code",
   "execution_count": null,
   "id": "dutch-performer",
   "metadata": {},
   "outputs": [],
   "source": [
    "# Workflow:\n",
    "#  1. Load in all transactions\n",
    "#    1a. Make a Transaction instance for each\n",
    "#  2. Load in all categories\n",
    "#  3. Add each transaction to relevant category\n",
    "#    3a. Load saved transaction name->category pairings\n",
    "#    3b. Loop through transaction and add each to category\n",
    "#      3bi.  If already known, add to appropriate category\n",
    "#      3bii. If not known, prompt user\n",
    "#  4. Now have categories and list of transactions for each category\n",
    "#  5. Visualizations"
   ]
  },
  {
   "cell_type": "code",
   "execution_count": null,
   "id": "civilian-count",
   "metadata": {},
   "outputs": [],
   "source": [
    "# STEP 1\n",
    "import pandas as pd\n",
    "import Transaction\n",
    "\n",
    "def get_citi_data(filename):\n",
    "    df = pd.read_csv(filename)\n",
    "    outrows = []\n",
    "    for r in df.iterrows():\n",
    "        data=r[1]\n",
    "        date = data[\"Date\"]\n",
    "        name = data[\"Description\"]\n",
    "        positive_amt = -data[\"Credit\"]\n",
    "        negative_amt = data[\"Debit\"]\n",
    "        outrows.append(Transaction.Transaction(date, name, positive_amt, negative_amt))\n",
    "    return outrows\n",
    "\n",
    "def get_discover_card_data(filename):\n",
    "    # TODO\n",
    "    return []\n",
    "\n",
    "def get_discover_checking_data(filename):\n",
    "    # TODO\n",
    "    return []\n",
    "\n",
    "def get_wellsfargo_data(filename):\n",
    "    # TODO\n",
    "    return []\n",
    "\n",
    "transactions = get_citi_data('data/citi.csv')"
   ]
  },
  {
   "cell_type": "code",
   "execution_count": null,
   "id": "9adab0dc",
   "metadata": {},
   "outputs": [],
   "source": [
    "# STEP 2\n",
    "import category.Category\n",
    "\n",
    "categories = category.Category.load()"
   ]
  },
  {
   "cell_type": "code",
   "execution_count": null,
   "id": "electoral-google",
   "metadata": {},
   "outputs": [],
   "source": [
    "# STEP 3\n",
    "import sys\n",
    "\n",
    "for t in transactions:\n",
    "    if not (categories.addTransaction(t)):\n",
    "        break\n",
    "categories.flush()\n",
    "print(categories)"
   ]
  }
 ],
 "metadata": {
  "kernelspec": {
   "display_name": "Python 3 (ipykernel)",
   "language": "python",
   "name": "python3"
  },
  "language_info": {
   "codemirror_mode": {
    "name": "ipython",
    "version": 3
   },
   "file_extension": ".py",
   "mimetype": "text/x-python",
   "name": "python",
   "nbconvert_exporter": "python",
   "pygments_lexer": "ipython3",
   "version": "3.8.10"
  }
 },
 "nbformat": 4,
 "nbformat_minor": 5
}

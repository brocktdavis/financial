{
 "cells": [
  {
   "cell_type": "code",
   "execution_count": null,
   "id": "dutch-performer",
   "metadata": {},
   "outputs": [],
   "source": [
    "import datetime\n",
    "import math"
   ]
  },
  {
   "cell_type": "code",
   "execution_count": null,
   "id": "civilian-count",
   "metadata": {},
   "outputs": [],
   "source": [
    "import pandas as pd\n",
    "\n",
    "def get_citi_data(filename):\n",
    "    df = pd.read_csv(filename)\n",
    "    outrows = []\n",
    "    for r in df.iterrows():\n",
    "        data=r[1]\n",
    "        date = data[\"Date\"]\n",
    "        name = data[\"Description\"]\n",
    "        positive_amt = -data[\"Credit\"]\n",
    "        negative_amt = data[\"Debit\"]\n",
    "        #outrows.append(Transaction(date, name, positive_amt, negative_amt))\n",
    "    return outrows\n"
   ]
  },
  {
   "cell_type": "code",
   "execution_count": null,
   "id": "motivated-simulation",
   "metadata": {},
   "outputs": [],
   "source": [
    "ts = get_citi_data('citi.csv')"
   ]
  },
  {
   "cell_type": "code",
   "execution_count": null,
   "id": "timely-processing",
   "metadata": {},
   "outputs": [],
   "source": []
  },
  {
   "cell_type": "code",
   "execution_count": null,
   "id": "electoral-google",
   "metadata": {},
   "outputs": [],
   "source": []
  }
 ],
 "metadata": {
  "kernelspec": {
   "display_name": "Python 3 (ipykernel)",
   "language": "python",
   "name": "python3"
  },
  "language_info": {
   "codemirror_mode": {
    "name": "ipython",
    "version": 3
   },
   "file_extension": ".py",
   "mimetype": "text/x-python",
   "name": "python",
   "nbconvert_exporter": "python",
   "pygments_lexer": "ipython3",
   "version": "3.8.10"
  }
 },
 "nbformat": 4,
 "nbformat_minor": 5
}
